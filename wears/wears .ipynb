{
 "cells": [
  {
   "cell_type": "code",
   "execution_count": 15,
   "id": "3b07c9e0",
   "metadata": {},
   "outputs": [],
   "source": [
    "import pandas as pd \n",
    "import numpy as np "
   ]
  },
  {
   "cell_type": "code",
   "execution_count": 3,
   "id": "f9bb4549",
   "metadata": {},
   "outputs": [],
   "source": [
    "from bs4 import BeautifulSoup as soup\n",
    "from urllib.request import urlopen as uReq\n",
    "# print(dir(soup))"
   ]
  },
  {
   "cell_type": "code",
   "execution_count": 4,
   "id": "9cddc131",
   "metadata": {},
   "outputs": [],
   "source": [
    "site = \"https://www.flipkart.com/clothing-and-accessories/topwear/pr?sid=clo%2Cash&otracker=categorytree&p%5B%5D=facets.ideal_for%255B%255D%3DMen&otracker=nmenu_sub_Men_0_Top%20wear\"\n",
    "uClient = uReq(site)\n",
    "page= uClient.read()\n",
    "uClient.close()"
   ]
  },
  {
   "cell_type": "code",
   "execution_count": 5,
   "id": "991cd101",
   "metadata": {},
   "outputs": [
    {
     "data": {
      "text/plain": [
       "1"
      ]
     },
     "execution_count": 5,
     "metadata": {},
     "output_type": "execute_result"
    }
   ],
   "source": [
    "work = soup(page, \"html.parser\")\n",
    "div = work.find_all(\"div\", { \"class\": \"_1YokD2 _2GoDe3 col-12-12\"})\n",
    "len(div)"
   ]
  },
  {
   "cell_type": "code",
   "execution_count": 6,
   "id": "38affa39",
   "metadata": {},
   "outputs": [
    {
     "data": {
      "text/plain": [
       "40"
      ]
     },
     "execution_count": 6,
     "metadata": {},
     "output_type": "execute_result"
    }
   ],
   "source": [
    "div = work.find_all(\"div\", { \"class\": \"_1xHGtK _373qXS\"})\n",
    "len(div)"
   ]
  },
  {
   "cell_type": "code",
   "execution_count": 7,
   "id": "9278d39b",
   "metadata": {},
   "outputs": [],
   "source": [
    "name  = work.find_all(\"div\", { \"class\": \"_2WkVRV\"})\n",
    "description  = work.find_all(\"a\", { \"class\": \"IRpwTa\"})\n",
    "discount  = work.find_all(\"div\", { \"class\": \"_3Ay6Sb\"})\n",
    "price = work.find_all(\"div\", { \"class\": \"_30jeq3\"})"
   ]
  },
  {
   "cell_type": "code",
   "execution_count": 8,
   "id": "260c5ecb",
   "metadata": {
    "scrolled": false
   },
   "outputs": [],
   "source": [
    "Products = []\n",
    "Price = []\n",
    "Description = []\n",
    "Discount = []\n",
    "\n",
    "for i in name:\n",
    "    p = i.text\n",
    "    Products.append(p)\n",
    "\n",
    "for i in price:\n",
    "    pp= i.text\n",
    "    Price.append(pp)\n",
    "    \n",
    "for i in description:\n",
    "    des = i.text\n",
    "    Description.append(des)\n",
    "    \n",
    "for i in discount:\n",
    "    dis = i.text\n",
    "    Discount.append(dis)\n",
    "    \n",
    "    "
   ]
  },
  {
   "cell_type": "code",
   "execution_count": 14,
   "id": "c40b010d",
   "metadata": {},
   "outputs": [],
   "source": [
    "# df.to_csv(\"wears.csv\")\n",
    "# df.to_csv (\"C:\\\\Users\\\\user\\\\Desktop\\\\Web Scrapping\\\\ass\\\\wears.csv\")"
   ]
  },
  {
   "cell_type": "code",
   "execution_count": 9,
   "id": "2946ca12",
   "metadata": {
    "scrolled": true
   },
   "outputs": [],
   "source": [
    "site2 = \"https://www.flipkart.com/clothing-and-accessories/topwear/pr?sid=clo%2Cash&otracker=categorytree&p%5B%5D=facets.ideal_for%255B%255D%3DMen&otracker=nmenu_sub_Men_0_Top+wear&page=2\"\n",
    "Client = uReq(site)\n",
    "page2= Client.read()\n",
    "Client.close()\n",
    "work2 = soup(page2, \"html.parser\")"
   ]
  },
  {
   "cell_type": "code",
   "execution_count": 10,
   "id": "1924738e",
   "metadata": {},
   "outputs": [
    {
     "data": {
      "text/plain": [
       "40"
      ]
     },
     "execution_count": 10,
     "metadata": {},
     "output_type": "execute_result"
    }
   ],
   "source": [
    "tag = work2.find_all(\"div\", { \"class\": \"_1xHGtK _373qXS\"})\n",
    "len(tag)"
   ]
  },
  {
   "cell_type": "code",
   "execution_count": 11,
   "id": "6117bd4c",
   "metadata": {
    "scrolled": false
   },
   "outputs": [],
   "source": [
    "name2  = work2.find_all(\"div\", { \"class\": \"_2WkVRV\"})\n",
    "description2  = work2.find_all(\"a\", { \"class\": \"IRpwTa\"})\n",
    "discount2  = work2.find_all(\"div\", { \"class\": \"_3Ay6Sb\"})\n",
    "price2 = work2.find_all(\"div\", { \"class\": \"_30jeq3\"})\n",
    "\n",
    "\n",
    "for i in name2:\n",
    "    dip = i.text\n",
    "    Products.append(dip)\n",
    "\n",
    "for i in price:\n",
    "    dip2= i.text\n",
    "    Price.append(dip2)\n",
    "    \n",
    "for i in description:\n",
    "    dip3 = i.text\n",
    "    Description.append(dip3)\n",
    "    \n",
    "for i in discount:\n",
    "    dip4 = i.text\n",
    "    Discount.append(dip4)\n",
    "\n"
   ]
  },
  {
   "cell_type": "code",
   "execution_count": 16,
   "id": "9cf7f2df",
   "metadata": {},
   "outputs": [
    {
     "data": {
      "text/html": [
       "<div>\n",
       "<style scoped>\n",
       "    .dataframe tbody tr th:only-of-type {\n",
       "        vertical-align: middle;\n",
       "    }\n",
       "\n",
       "    .dataframe tbody tr th {\n",
       "        vertical-align: top;\n",
       "    }\n",
       "\n",
       "    .dataframe thead th {\n",
       "        text-align: right;\n",
       "    }\n",
       "</style>\n",
       "<table border=\"1\" class=\"dataframe\">\n",
       "  <thead>\n",
       "    <tr style=\"text-align: right;\">\n",
       "      <th></th>\n",
       "      <th>Product</th>\n",
       "      <th>Description</th>\n",
       "      <th>Price</th>\n",
       "      <th>Discount</th>\n",
       "    </tr>\n",
       "  </thead>\n",
       "  <tbody>\n",
       "    <tr>\n",
       "      <th>0</th>\n",
       "      <td>HIGHLANDER</td>\n",
       "      <td>Men Slim Fit Checkered Cut Away Collar Casual ...</td>\n",
       "      <td>₹449</td>\n",
       "      <td>55% off</td>\n",
       "    </tr>\n",
       "    <tr>\n",
       "      <th>1</th>\n",
       "      <td>HRX by Hrithik Roshan</td>\n",
       "      <td>Solid Men Polo Neck Black T-Shirt</td>\n",
       "      <td>₹493</td>\n",
       "      <td>62% off</td>\n",
       "    </tr>\n",
       "    <tr>\n",
       "      <th>2</th>\n",
       "      <td>Eyebogler</td>\n",
       "      <td>Self Design Men Round Neck Black T-Shirt</td>\n",
       "      <td>₹299</td>\n",
       "      <td>76% off</td>\n",
       "    </tr>\n",
       "    <tr>\n",
       "      <th>3</th>\n",
       "      <td>TRIPR</td>\n",
       "      <td>Solid Men Mandarin Collar Grey, Black T-Shirt</td>\n",
       "      <td>₹299</td>\n",
       "      <td>85% off</td>\n",
       "    </tr>\n",
       "    <tr>\n",
       "      <th>4</th>\n",
       "      <td>Dennis Lingo</td>\n",
       "      <td>Men Slim Fit Solid Slim Collar Casual Shirt</td>\n",
       "      <td>₹500</td>\n",
       "      <td>72% off</td>\n",
       "    </tr>\n",
       "    <tr>\n",
       "      <th>...</th>\n",
       "      <td>...</td>\n",
       "      <td>...</td>\n",
       "      <td>...</td>\n",
       "      <td>...</td>\n",
       "    </tr>\n",
       "    <tr>\n",
       "      <th>75</th>\n",
       "      <td>HIGHLANDER</td>\n",
       "      <td>Men Slim Fit Printed Spread Collar Casual Shirt</td>\n",
       "      <td>₹428</td>\n",
       "      <td>61% off</td>\n",
       "    </tr>\n",
       "    <tr>\n",
       "      <th>76</th>\n",
       "      <td>Pepzo</td>\n",
       "      <td>Men Regular Fit Solid Spread Collar Casual Shirt</td>\n",
       "      <td>₹345</td>\n",
       "      <td>82% off</td>\n",
       "    </tr>\n",
       "    <tr>\n",
       "      <th>77</th>\n",
       "      <td>Eyebogler</td>\n",
       "      <td>Striped Men Polo Neck Blue, White T-Shirt</td>\n",
       "      <td>₹349</td>\n",
       "      <td>73% off</td>\n",
       "    </tr>\n",
       "    <tr>\n",
       "      <th>78</th>\n",
       "      <td>FastColors</td>\n",
       "      <td>Printed Men Hooded Neck Black, Red T-Shirt</td>\n",
       "      <td>₹249</td>\n",
       "      <td>87% off</td>\n",
       "    </tr>\n",
       "    <tr>\n",
       "      <th>79</th>\n",
       "      <td>HIGHLANDER</td>\n",
       "      <td>Men Slim Fit Printed Cut Away Collar Casual Shirt</td>\n",
       "      <td>₹503</td>\n",
       "      <td>52% off</td>\n",
       "    </tr>\n",
       "  </tbody>\n",
       "</table>\n",
       "<p>80 rows × 4 columns</p>\n",
       "</div>"
      ],
      "text/plain": [
       "                  Product                                        Description  \\\n",
       "0              HIGHLANDER  Men Slim Fit Checkered Cut Away Collar Casual ...   \n",
       "1   HRX by Hrithik Roshan                  Solid Men Polo Neck Black T-Shirt   \n",
       "2               Eyebogler           Self Design Men Round Neck Black T-Shirt   \n",
       "3                   TRIPR      Solid Men Mandarin Collar Grey, Black T-Shirt   \n",
       "4            Dennis Lingo        Men Slim Fit Solid Slim Collar Casual Shirt   \n",
       "..                    ...                                                ...   \n",
       "75             HIGHLANDER    Men Slim Fit Printed Spread Collar Casual Shirt   \n",
       "76                  Pepzo   Men Regular Fit Solid Spread Collar Casual Shirt   \n",
       "77              Eyebogler          Striped Men Polo Neck Blue, White T-Shirt   \n",
       "78             FastColors         Printed Men Hooded Neck Black, Red T-Shirt   \n",
       "79             HIGHLANDER  Men Slim Fit Printed Cut Away Collar Casual Shirt   \n",
       "\n",
       "   Price Discount  \n",
       "0   ₹449  55% off  \n",
       "1   ₹493  62% off  \n",
       "2   ₹299  76% off  \n",
       "3   ₹299  85% off  \n",
       "4   ₹500  72% off  \n",
       "..   ...      ...  \n",
       "75  ₹428  61% off  \n",
       "76  ₹345  82% off  \n",
       "77  ₹349  73% off  \n",
       "78  ₹249  87% off  \n",
       "79  ₹503  52% off  \n",
       "\n",
       "[80 rows x 4 columns]"
      ]
     },
     "execution_count": 16,
     "metadata": {},
     "output_type": "execute_result"
    }
   ],
   "source": [
    "df = pd.DataFrame({\"Product\":Products,\"Description\":Description, \"Price\":Price,\"Discount\":Discount})\n",
    "# df.index = pd.RangeIndex(start=1, stop=81, step=1)\n",
    "df"
   ]
  },
  {
   "cell_type": "code",
   "execution_count": 29,
   "id": "781bf26b",
   "metadata": {},
   "outputs": [
    {
     "ename": "TypeError",
     "evalue": "findall() takes from 2 to 3 positional arguments but 11 were given",
     "output_type": "error",
     "traceback": [
      "\u001b[1;31m---------------------------------------------------------------------------\u001b[0m",
      "\u001b[1;31mTypeError\u001b[0m                                 Traceback (most recent call last)",
      "\u001b[1;32m<ipython-input-29-9174a730a4eb>\u001b[0m in \u001b[0;36m<module>\u001b[1;34m\u001b[0m\n\u001b[0;32m      2\u001b[0m \u001b[0mcol\u001b[0m \u001b[1;33m=\u001b[0m \u001b[1;33m[\u001b[0m\u001b[1;34m\"Black\"\u001b[0m\u001b[1;33m,\u001b[0m \u001b[1;34m\"Red\"\u001b[0m\u001b[1;33m,\u001b[0m\u001b[1;34m\"Blue\"\u001b[0m\u001b[1;33m,\u001b[0m \u001b[1;34m\"White \"\u001b[0m\u001b[1;33m,\u001b[0m\u001b[1;34m\"Grey\"\u001b[0m\u001b[1;33m,\u001b[0m\u001b[1;34m\"Green\"\u001b[0m\u001b[1;33m,\u001b[0m\u001b[1;34m\"Yellow\"\u001b[0m\u001b[1;33m,\u001b[0m\u001b[1;34m\"Dark Blue\"\u001b[0m\u001b[1;33m,\u001b[0m\u001b[1;34m\"Checkered\"\u001b[0m\u001b[1;33m,\u001b[0m\u001b[1;34m\"Brown\"\u001b[0m \u001b[1;33m]\u001b[0m\u001b[1;33m\u001b[0m\u001b[1;33m\u001b[0m\u001b[0m\n\u001b[0;32m      3\u001b[0m \u001b[1;32mfor\u001b[0m \u001b[0md\u001b[0m \u001b[1;32min\u001b[0m \u001b[0mdf\u001b[0m\u001b[1;33m.\u001b[0m\u001b[0mDescription\u001b[0m\u001b[1;33m:\u001b[0m\u001b[1;33m\u001b[0m\u001b[1;33m\u001b[0m\u001b[0m\n\u001b[1;32m----> 4\u001b[1;33m     \u001b[0mx\u001b[0m \u001b[1;33m=\u001b[0m \u001b[0mre\u001b[0m\u001b[1;33m.\u001b[0m\u001b[0mfindall\u001b[0m\u001b[1;33m(\u001b[0m\u001b[1;34m\"Black\"\u001b[0m\u001b[1;33m,\u001b[0m \u001b[1;34m\"Red\"\u001b[0m\u001b[1;33m,\u001b[0m\u001b[1;34m\"Blue\"\u001b[0m\u001b[1;33m,\u001b[0m \u001b[1;34m\"White \"\u001b[0m\u001b[1;33m,\u001b[0m\u001b[1;34m\"Grey\"\u001b[0m\u001b[1;33m,\u001b[0m\u001b[1;34m\"Green\"\u001b[0m\u001b[1;33m,\u001b[0m\u001b[1;34m\"Yellow\"\u001b[0m\u001b[1;33m,\u001b[0m\u001b[1;34m\"Dark Blue\"\u001b[0m\u001b[1;33m,\u001b[0m\u001b[1;34m\"Checkered\"\u001b[0m\u001b[1;33m,\u001b[0m\u001b[1;34m\"Brown\"\u001b[0m \u001b[1;33m,\u001b[0m \u001b[0md\u001b[0m\u001b[1;33m)\u001b[0m\u001b[1;33m\u001b[0m\u001b[1;33m\u001b[0m\u001b[0m\n\u001b[0m\u001b[0;32m      5\u001b[0m     \u001b[0mprint\u001b[0m\u001b[1;33m(\u001b[0m\u001b[0mx\u001b[0m\u001b[1;33m)\u001b[0m\u001b[1;33m\u001b[0m\u001b[1;33m\u001b[0m\u001b[0m\n",
      "\u001b[1;31mTypeError\u001b[0m: findall() takes from 2 to 3 positional arguments but 11 were given"
     ]
    }
   ],
   "source": [
    "import re\n",
    "col = [\"Black\", \"Red\",\"Blue\", \"White \",\"Grey\",\"Green\",\"Yellow\",\"Dark Blue\",\"Checkered\",\"Brown\" ]\n",
    "for d in df.Description:\n",
    "    x = re.findall(, d)\n",
    "    print(x)"
   ]
  },
  {
   "cell_type": "code",
   "execution_count": null,
   "id": "e0bcdeb3",
   "metadata": {},
   "outputs": [],
   "source": [
    "col = [\"Black\", \"Red\",\"Blue\", \"White \",\"Grey\",\"Green\",\"Yellow\",\"Dark Blue\",\"Checkered\",\"Brown\" ]\n",
    "\n"
   ]
  }
 ],
 "metadata": {
  "kernelspec": {
   "display_name": "Python 3",
   "language": "python",
   "name": "python3"
  },
  "language_info": {
   "codemirror_mode": {
    "name": "ipython",
    "version": 3
   },
   "file_extension": ".py",
   "mimetype": "text/x-python",
   "name": "python",
   "nbconvert_exporter": "python",
   "pygments_lexer": "ipython3",
   "version": "3.8.8"
  }
 },
 "nbformat": 4,
 "nbformat_minor": 5
}
